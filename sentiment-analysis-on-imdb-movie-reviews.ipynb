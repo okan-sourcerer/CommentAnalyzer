{
 "cells": [
  {
   "cell_type": "markdown",
   "id": "79be5739",
   "metadata": {
    "papermill": {
     "duration": 0.02841,
     "end_time": "2022-03-15T05:15:15.186400",
     "exception": false,
     "start_time": "2022-03-15T05:15:15.157990",
     "status": "completed"
    },
    "tags": []
   },
   "source": [
    "\n",
    "# 1. Bazı önemli kütüphaneleri importla\n"
   ]
  },
  {
   "cell_type": "code",
   "execution_count": 1,
   "id": "db94f69e",
   "metadata": {
    "_cell_guid": "b1076dfc-b9ad-4769-8c92-a6c4dae69d19",
    "_uuid": "8f2839f25d086af736a60e9eeb907d3b93b6e0e5",
    "papermill": {
     "duration": 1.018891,
     "end_time": "2022-03-15T05:15:16.234290",
     "exception": false,
     "start_time": "2022-03-15T05:15:15.215399",
     "status": "completed"
    },
    "tags": []
   },
   "outputs": [],
   "source": [
    "import numpy as np \n",
    "import pandas as pd \n",
    "import matplotlib.pyplot as plt\n",
    "import seaborn as sns\n",
    "sns.set_style('darkgrid')"
   ]
  },
  {
   "cell_type": "markdown",
   "id": "8a1d81dc",
   "metadata": {
    "papermill": {
     "duration": 0.030442,
     "end_time": "2022-03-15T05:15:16.367290",
     "exception": false,
     "start_time": "2022-03-15T05:15:16.336848",
     "status": "completed"
    },
    "tags": []
   },
   "source": [
    "\n",
    "# 2. Veriyi hazırla"
   ]
  },
  {
   "cell_type": "code",
   "execution_count": 2,
   "id": "caa736c0",
   "metadata": {
    "papermill": {
     "duration": 1.422331,
     "end_time": "2022-03-15T05:15:17.819318",
     "exception": false,
     "start_time": "2022-03-15T05:15:16.396987",
     "status": "completed"
    },
    "tags": []
   },
   "outputs": [
    {
     "data": {
      "text/html": [
       "<div>\n",
       "<style scoped>\n",
       "    .dataframe tbody tr th:only-of-type {\n",
       "        vertical-align: middle;\n",
       "    }\n",
       "\n",
       "    .dataframe tbody tr th {\n",
       "        vertical-align: top;\n",
       "    }\n",
       "\n",
       "    .dataframe thead th {\n",
       "        text-align: right;\n",
       "    }\n",
       "</style>\n",
       "<table border=\"1\" class=\"dataframe\">\n",
       "  <thead>\n",
       "    <tr style=\"text-align: right;\">\n",
       "      <th></th>\n",
       "      <th>text</th>\n",
       "      <th>label</th>\n",
       "    </tr>\n",
       "  </thead>\n",
       "  <tbody>\n",
       "    <tr>\n",
       "      <th>4</th>\n",
       "      <td>Im a die hard Dads Army fan and nothing will e...</td>\n",
       "      <td>1</td>\n",
       "    </tr>\n",
       "    <tr>\n",
       "      <th>6</th>\n",
       "      <td>Finally watched this shocking movie last night...</td>\n",
       "      <td>1</td>\n",
       "    </tr>\n",
       "    <tr>\n",
       "      <th>8</th>\n",
       "      <td>It may be the remake of 1987 Autumn's Tale aft...</td>\n",
       "      <td>1</td>\n",
       "    </tr>\n",
       "    <tr>\n",
       "      <th>9</th>\n",
       "      <td>My Super Ex Girlfriend turned out to be a plea...</td>\n",
       "      <td>1</td>\n",
       "    </tr>\n",
       "    <tr>\n",
       "      <th>10</th>\n",
       "      <td>I can't believe people are looking for a plot ...</td>\n",
       "      <td>1</td>\n",
       "    </tr>\n",
       "    <tr>\n",
       "      <th>...</th>\n",
       "      <td>...</td>\n",
       "      <td>...</td>\n",
       "    </tr>\n",
       "    <tr>\n",
       "      <th>9907</th>\n",
       "      <td>Whoever gave this movie rave reviews needs to ...</td>\n",
       "      <td>0</td>\n",
       "    </tr>\n",
       "    <tr>\n",
       "      <th>9908</th>\n",
       "      <td>OH MY God I am lost Now I know everything this...</td>\n",
       "      <td>0</td>\n",
       "    </tr>\n",
       "    <tr>\n",
       "      <th>9911</th>\n",
       "      <td>A stupid movie, with a stupid plot. Feels like...</td>\n",
       "      <td>0</td>\n",
       "    </tr>\n",
       "    <tr>\n",
       "      <th>9913</th>\n",
       "      <td>Stone has tried another type of movie. Any Giv...</td>\n",
       "      <td>0</td>\n",
       "    </tr>\n",
       "    <tr>\n",
       "      <th>9914</th>\n",
       "      <td>I didn't know what to expect from the film. We...</td>\n",
       "      <td>0</td>\n",
       "    </tr>\n",
       "  </tbody>\n",
       "</table>\n",
       "<p>10000 rows × 2 columns</p>\n",
       "</div>"
      ],
      "text/plain": [
       "                                                   text  label\n",
       "4     Im a die hard Dads Army fan and nothing will e...      1\n",
       "6     Finally watched this shocking movie last night...      1\n",
       "8     It may be the remake of 1987 Autumn's Tale aft...      1\n",
       "9     My Super Ex Girlfriend turned out to be a plea...      1\n",
       "10    I can't believe people are looking for a plot ...      1\n",
       "...                                                 ...    ...\n",
       "9907  Whoever gave this movie rave reviews needs to ...      0\n",
       "9908  OH MY God I am lost Now I know everything this...      0\n",
       "9911  A stupid movie, with a stupid plot. Feels like...      0\n",
       "9913  Stone has tried another type of movie. Any Giv...      0\n",
       "9914  I didn't know what to expect from the film. We...      0\n",
       "\n",
       "[10000 rows x 2 columns]"
      ]
     },
     "execution_count": 2,
     "metadata": {},
     "output_type": "execute_result"
    }
   ],
   "source": [
    "df_review = pd.read_csv(\"movie.csv\")\n",
    "df_positive = df_review[df_review['label']==1][:5000]\n",
    "df_negative = df_review[df_review['label']==0][:5000]\n",
    "\n",
    "df_review = pd.concat([df_positive,df_negative])\n",
    "df_review"
   ]
  },
  {
   "cell_type": "markdown",
   "id": "2475c0fe-2ff2-4228-9699-de8b74713f55",
   "metadata": {},
   "source": [
    "# NLTK ile tokenizasyon işlemini yap. Veriyi temizle"
   ]
  },
  {
   "cell_type": "code",
   "execution_count": 4,
   "id": "59c2500c-dfba-4031-b9aa-64705c382c2d",
   "metadata": {},
   "outputs": [
    {
     "name": "stderr",
     "output_type": "stream",
     "text": [
      "[nltk_data] Downloading package punkt to\n",
      "[nltk_data]     C:\\Users\\win\\AppData\\Roaming\\nltk_data...\n",
      "[nltk_data]   Package punkt is already up-to-date!\n",
      "[nltk_data] Downloading package stopwords to\n",
      "[nltk_data]     C:\\Users\\win\\AppData\\Roaming\\nltk_data...\n",
      "[nltk_data]   Package stopwords is already up-to-date!\n"
     ]
    }
   ],
   "source": [
    "import nltk\n",
    "from nltk.tokenize import word_tokenize\n",
    "from nltk.corpus import stopwords\n",
    "import string\n",
    "\n",
    "nltk.download('punkt')\n",
    "nltk.download('stopwords')\n",
    "\n",
    "def preprocess_text(text):\n",
    "    # Tokenization\n",
    "    tokens = word_tokenize(text)\n",
    "\n",
    "    # Lowercasing\n",
    "    tokens = [token.lower() for token in tokens]\n",
    "\n",
    "    # Punctuation removal\n",
    "    punctuation = set(string.punctuation)\n",
    "    tokens = [token for token in tokens if token not in punctuation]\n",
    "\n",
    "    # Stop word removal\n",
    "    stop_words = set(stopwords.words('english'))\n",
    "    tokens = [token for token in tokens if token not in stop_words]\n",
    "\n",
    "    # Other preprocessing steps (e.g., stemming, handling special characters, etc.) can be added here\n",
    "\n",
    "    # Join the tokens back into a single string\n",
    "    preprocessed_text = ' '.join(tokens)\n",
    "\n",
    "    return preprocessed_text"
   ]
  },
  {
   "cell_type": "code",
   "execution_count": 5,
   "id": "c18b84d7-34ca-4396-996f-ebc7124edb7c",
   "metadata": {},
   "outputs": [
    {
     "data": {
      "text/html": [
       "<div>\n",
       "<style scoped>\n",
       "    .dataframe tbody tr th:only-of-type {\n",
       "        vertical-align: middle;\n",
       "    }\n",
       "\n",
       "    .dataframe tbody tr th {\n",
       "        vertical-align: top;\n",
       "    }\n",
       "\n",
       "    .dataframe thead th {\n",
       "        text-align: right;\n",
       "    }\n",
       "</style>\n",
       "<table border=\"1\" class=\"dataframe\">\n",
       "  <thead>\n",
       "    <tr style=\"text-align: right;\">\n",
       "      <th></th>\n",
       "      <th>text</th>\n",
       "      <th>label</th>\n",
       "    </tr>\n",
       "  </thead>\n",
       "  <tbody>\n",
       "    <tr>\n",
       "      <th>4</th>\n",
       "      <td>im die hard dads army fan nothing ever change ...</td>\n",
       "      <td>1</td>\n",
       "    </tr>\n",
       "    <tr>\n",
       "      <th>6</th>\n",
       "      <td>finally watched shocking movie last night dist...</td>\n",
       "      <td>1</td>\n",
       "    </tr>\n",
       "    <tr>\n",
       "      <th>8</th>\n",
       "      <td>may remake 1987 autumn 's tale eleven years di...</td>\n",
       "      <td>1</td>\n",
       "    </tr>\n",
       "    <tr>\n",
       "      <th>9</th>\n",
       "      <td>super ex girlfriend turned pleasant surprise r...</td>\n",
       "      <td>1</td>\n",
       "    </tr>\n",
       "    <tr>\n",
       "      <th>10</th>\n",
       "      <td>ca n't believe people looking plot film laural...</td>\n",
       "      <td>1</td>\n",
       "    </tr>\n",
       "    <tr>\n",
       "      <th>...</th>\n",
       "      <td>...</td>\n",
       "      <td>...</td>\n",
       "    </tr>\n",
       "    <tr>\n",
       "      <th>9907</th>\n",
       "      <td>whoever gave movie rave reviews needs see movi...</td>\n",
       "      <td>0</td>\n",
       "    </tr>\n",
       "    <tr>\n",
       "      <th>9908</th>\n",
       "      <td>oh god lost know everything guy pointless r j ...</td>\n",
       "      <td>0</td>\n",
       "    </tr>\n",
       "    <tr>\n",
       "      <th>9911</th>\n",
       "      <td>stupid movie stupid plot feels like threw ever...</td>\n",
       "      <td>0</td>\n",
       "    </tr>\n",
       "    <tr>\n",
       "      <th>9913</th>\n",
       "      <td>stone tried another type movie given sunday fa...</td>\n",
       "      <td>0</td>\n",
       "    </tr>\n",
       "    <tr>\n",
       "      <th>9914</th>\n",
       "      <td>n't know expect film well know truly awful fil...</td>\n",
       "      <td>0</td>\n",
       "    </tr>\n",
       "  </tbody>\n",
       "</table>\n",
       "<p>10000 rows × 2 columns</p>\n",
       "</div>"
      ],
      "text/plain": [
       "                                                   text  label\n",
       "4     im die hard dads army fan nothing ever change ...      1\n",
       "6     finally watched shocking movie last night dist...      1\n",
       "8     may remake 1987 autumn 's tale eleven years di...      1\n",
       "9     super ex girlfriend turned pleasant surprise r...      1\n",
       "10    ca n't believe people looking plot film laural...      1\n",
       "...                                                 ...    ...\n",
       "9907  whoever gave movie rave reviews needs see movi...      0\n",
       "9908  oh god lost know everything guy pointless r j ...      0\n",
       "9911  stupid movie stupid plot feels like threw ever...      0\n",
       "9913  stone tried another type movie given sunday fa...      0\n",
       "9914  n't know expect film well know truly awful fil...      0\n",
       "\n",
       "[10000 rows x 2 columns]"
      ]
     },
     "execution_count": 5,
     "metadata": {},
     "output_type": "execute_result"
    }
   ],
   "source": [
    "df_review[\"text\"] = df_review[\"text\"].apply(preprocess_text)\n",
    "df_review"
   ]
  },
  {
   "cell_type": "markdown",
   "id": "0c652afe-dabb-4eaa-891e-caedfb79a21d",
   "metadata": {},
   "source": [
    "#### Verisetinden alınan kesitteki sınıflar"
   ]
  },
  {
   "cell_type": "code",
   "execution_count": 6,
   "id": "ab26e2fc",
   "metadata": {
    "papermill": {
     "duration": 0.250269,
     "end_time": "2022-03-15T05:15:18.306754",
     "exception": false,
     "start_time": "2022-03-15T05:15:18.056485",
     "status": "completed"
    },
    "tags": []
   },
   "outputs": [
    {
     "data": {
      "image/png": "[encoded data removed]",
      "text/plain": [
       "<Figure size 800x400 with 1 Axes>"
      ]
     },
     "metadata": {},
     "output_type": "display_data"
    }
   ],
   "source": [
    "colors = sns.color_palette('deep')\n",
    "\n",
    "plt.figure(figsize=(8,4), tight_layout=True)\n",
    "plt.bar(x=['Positive', 'Negative'],\n",
    "        height=df_review.value_counts(['label']),\n",
    "        color=colors[:2])\n",
    "plt.title('Sentiment')\n",
    "plt.savefig('sentiment.png')\n",
    "plt.show()"
   ]
  },
  {
   "cell_type": "markdown",
   "id": "88184a48",
   "metadata": {
    "papermill": {
     "duration": 0.031289,
     "end_time": "2022-03-15T05:15:19.191739",
     "exception": false,
     "start_time": "2022-03-15T05:15:19.160450",
     "status": "completed"
    },
    "tags": []
   },
   "source": [
    "\n",
    "## Splitting data into train and test set\n"
   ]
  },
  {
   "cell_type": "code",
   "execution_count": 7,
   "id": "e6c0f472",
   "metadata": {
    "papermill": {
     "duration": 0.040695,
     "end_time": "2022-03-15T05:15:19.264415",
     "exception": false,
     "start_time": "2022-03-15T05:15:19.223720",
     "status": "completed"
    },
    "tags": []
   },
   "outputs": [],
   "source": [
    "from sklearn.model_selection import train_test_split\n",
    "\n",
    "train,test = train_test_split(df_review,test_size =0.33,random_state=42)"
   ]
  },
  {
   "cell_type": "code",
   "execution_count": 8,
   "id": "44ca4804",
   "metadata": {
    "papermill": {
     "duration": 0.039134,
     "end_time": "2022-03-15T05:15:19.334778",
     "exception": false,
     "start_time": "2022-03-15T05:15:19.295644",
     "status": "completed"
    },
    "tags": []
   },
   "outputs": [],
   "source": [
    "train_x, train_y = train['text'], train['label']\n",
    "test_x, test_y = test['text'], test['label']"
   ]
  },
  {
   "cell_type": "code",
   "execution_count": 9,
   "id": "3c6a4c66",
   "metadata": {
    "papermill": {
     "duration": 0.043005,
     "end_time": "2022-03-15T05:15:19.408686",
     "exception": false,
     "start_time": "2022-03-15T05:15:19.365681",
     "status": "completed"
    },
    "tags": []
   },
   "outputs": [
    {
     "data": {
      "text/plain": [
       "0    3378\n",
       "1    3322\n",
       "Name: label, dtype: int64"
      ]
     },
     "execution_count": 9,
     "metadata": {},
     "output_type": "execute_result"
    }
   ],
   "source": [
    "train_y.value_counts()"
   ]
  },
  {
   "cell_type": "markdown",
   "id": "17ffb83c",
   "metadata": {
    "papermill": {
     "duration": 0.031909,
     "end_time": "2022-03-15T05:15:19.471693",
     "exception": false,
     "start_time": "2022-03-15T05:15:19.439784",
     "status": "completed"
    },
    "tags": []
   },
   "source": [
    "\n",
    "# 3.Text Representation (Bag of words)\n"
   ]
  },
  {
   "cell_type": "markdown",
   "id": "b549637e",
   "metadata": {
    "papermill": {
     "duration": 0.031084,
     "end_time": "2022-03-15T05:15:19.534017",
     "exception": false,
     "start_time": "2022-03-15T05:15:19.502933",
     "status": "completed"
    },
    "tags": []
   },
   "source": [
    "Classifiers and learning algorithms expect numerical feature vectors rather than raw text documents. This is why we need to turn our movie review text into numerical vectors.\n",
    "\n",
    "we’ll use bag of words (BOW) since we care about the frequency of the words in text reviews; however, the order of words is irrelevant. Two common ways to represent bag of words are CountVectorizer and Term Frequency, Inverse Document Frequency (TF-IDF)"
   ]
  },
  {
   "cell_type": "markdown",
   "id": "34bc488b",
   "metadata": {
    "execution": {
     "iopub.execute_input": "2022-03-14T02:31:48.605113Z",
     "iopub.status.busy": "2022-03-14T02:31:48.604278Z",
     "iopub.status.idle": "2022-03-14T02:31:48.612924Z",
     "shell.execute_reply": "2022-03-14T02:31:48.611661Z",
     "shell.execute_reply.started": "2022-03-14T02:31:48.605055Z"
    },
    "papermill": {
     "duration": 0.030941,
     "end_time": "2022-03-15T05:15:19.597449",
     "exception": false,
     "start_time": "2022-03-15T05:15:19.566508",
     "status": "completed"
    },
    "tags": []
   },
   "source": [
    "verisetindeki kelimeler vektörlere dönüştürüldü"
   ]
  },
  {
   "cell_type": "code",
   "execution_count": 10,
   "id": "a6b4b597",
   "metadata": {
    "papermill": {
     "duration": 0.391793,
     "end_time": "2022-03-15T05:15:20.020575",
     "exception": false,
     "start_time": "2022-03-15T05:15:19.628782",
     "status": "completed"
    },
    "tags": []
   },
   "outputs": [],
   "source": [
    "from sklearn.feature_extraction.text import TfidfVectorizer\n",
    "\n",
    "tfidf = TfidfVectorizer(stop_words='english')\n",
    "train_x_vector = tfidf.fit_transform(train_x)\n",
    "# also fit the test_x_vector\n",
    "test_x_vector = tfidf.transform(test_x)\n"
   ]
  },
  {
   "cell_type": "markdown",
   "id": "11352f52",
   "metadata": {
    "papermill": {
     "duration": 0.032306,
     "end_time": "2022-03-15T05:15:20.874383",
     "exception": false,
     "start_time": "2022-03-15T05:15:20.842077",
     "status": "completed"
    },
    "tags": []
   },
   "source": [
    "# 4.Model Selection\n",
    "\n",
    "Supervised öğrenmenin gerçekleştirileceği ve tanımlanmış yazıların kullanılabileceği yöntemler denendi.\n",
    "\n",
    "Sentiment analizinde şık karşılaşılan 4 model seçildi.\n"
   ]
  },
  {
   "cell_type": "markdown",
   "id": "438e32b4",
   "metadata": {
    "papermill": {
     "duration": 0.032352,
     "end_time": "2022-03-15T05:15:20.939562",
     "exception": false,
     "start_time": "2022-03-15T05:15:20.907210",
     "status": "completed"
    },
    "tags": []
   },
   "source": [
    "\n",
    "##  Support Vector Machine(SVM)\n"
   ]
  },
  {
   "cell_type": "code",
   "execution_count": 12,
   "id": "03f3a011",
   "metadata": {
    "papermill": {
     "duration": 1.754244,
     "end_time": "2022-03-15T05:15:22.726342",
     "exception": false,
     "start_time": "2022-03-15T05:15:20.972098",
     "status": "completed"
    },
    "tags": []
   },
   "outputs": [
    {
     "data": {
      "text/html": [
       "<style>#sk-container-id-1 {color: black;background-color: white;}#sk-container-id-1 pre{padding: 0;}#sk-container-id-1 div.sk-toggleable {background-color: white;}#sk-container-id-1 label.sk-toggleable__label {cursor: pointer;display: block;width: 100%;margin-bottom: 0;padding: 0.3em;box-sizing: border-box;text-align: center;}#sk-container-id-1 label.sk-toggleable__label-arrow:before {content: \"▸\";float: left;margin-right: 0.25em;color: #696969;}#sk-container-id-1 label.sk-toggleable__label-arrow:hover:before {color: black;}#sk-container-id-1 div.sk-estimator:hover label.sk-toggleable__label-arrow:before {color: black;}#sk-container-id-1 div.sk-toggleable__content {max-height: 0;max-width: 0;overflow: hidden;text-align: left;background-color: #f0f8ff;}#sk-container-id-1 div.sk-toggleable__content pre {margin: 0.2em;color: black;border-radius: 0.25em;background-color: #f0f8ff;}#sk-container-id-1 input.sk-toggleable__control:checked~div.sk-toggleable__content {max-height: 200px;max-width: 100%;overflow: auto;}#sk-container-id-1 input.sk-toggleable__control:checked~label.sk-toggleable__label-arrow:before {content: \"▾\";}#sk-container-id-1 div.sk-estimator input.sk-toggleable__control:checked~label.sk-toggleable__label {background-color: #d4ebff;}#sk-container-id-1 div.sk-label input.sk-toggleable__control:checked~label.sk-toggleable__label {background-color: #d4ebff;}#sk-container-id-1 input.sk-hidden--visually {border: 0;clip: rect(1px 1px 1px 1px);clip: rect(1px, 1px, 1px, 1px);height: 1px;margin: -1px;overflow: hidden;padding: 0;position: absolute;width: 1px;}#sk-container-id-1 div.sk-estimator {font-family: monospace;background-color: #f0f8ff;border: 1px dotted black;border-radius: 0.25em;box-sizing: border-box;margin-bottom: 0.5em;}#sk-container-id-1 div.sk-estimator:hover {background-color: #d4ebff;}#sk-container-id-1 div.sk-parallel-item::after {content: \"\";width: 100%;border-bottom: 1px solid gray;flex-grow: 1;}#sk-container-id-1 div.sk-label:hover label.sk-toggleable__label {background-color: #d4ebff;}#sk-container-id-1 div.sk-serial::before {content: \"\";position: absolute;border-left: 1px solid gray;box-sizing: border-box;top: 0;bottom: 0;left: 50%;z-index: 0;}#sk-container-id-1 div.sk-serial {display: flex;flex-direction: column;align-items: center;background-color: white;padding-right: 0.2em;padding-left: 0.2em;position: relative;}#sk-container-id-1 div.sk-item {position: relative;z-index: 1;}#sk-container-id-1 div.sk-parallel {display: flex;align-items: stretch;justify-content: center;background-color: white;position: relative;}#sk-container-id-1 div.sk-item::before, #sk-container-id-1 div.sk-parallel-item::before {content: \"\";position: absolute;border-left: 1px solid gray;box-sizing: border-box;top: 0;bottom: 0;left: 50%;z-index: -1;}#sk-container-id-1 div.sk-parallel-item {display: flex;flex-direction: column;z-index: 1;position: relative;background-color: white;}#sk-container-id-1 div.sk-parallel-item:first-child::after {align-self: flex-end;width: 50%;}#sk-container-id-1 div.sk-parallel-item:last-child::after {align-self: flex-start;width: 50%;}#sk-container-id-1 div.sk-parallel-item:only-child::after {width: 0;}#sk-container-id-1 div.sk-dashed-wrapped {border: 1px dashed gray;margin: 0 0.4em 0.5em 0.4em;box-sizing: border-box;padding-bottom: 0.4em;background-color: white;}#sk-container-id-1 div.sk-label label {font-family: monospace;font-weight: bold;display: inline-block;line-height: 1.2em;}#sk-container-id-1 div.sk-label-container {text-align: center;}#sk-container-id-1 div.sk-container {/* jupyter's `normalize.less` sets `[hidden] { display: none; }` but bootstrap.min.css set `[hidden] { display: none !important; }` so we also need the `!important` here to be able to override the default hidden behavior on the sphinx rendered scikit-learn.org. See: https://github.com/scikit-learn/scikit-learn/issues/21755 */display: inline-block !important;position: relative;}#sk-container-id-1 div.sk-text-repr-fallback {display: none;}</style><div id=\"sk-container-id-1\" class=\"sk-top-container\"><div class=\"sk-text-repr-fallback\"><pre>SVC(kernel=&#x27;linear&#x27;)</pre><b>In a Jupyter environment, please rerun this cell to show the HTML representation or trust the notebook. <br />On GitHub, the HTML representation is unable to render, please try loading this page with nbviewer.org.</b></div><div class=\"sk-container\" hidden><div class=\"sk-item\"><div class=\"sk-estimator sk-toggleable\"><input class=\"sk-toggleable__control sk-hidden--visually\" id=\"sk-estimator-id-1\" type=\"checkbox\" checked><label for=\"sk-estimator-id-1\" class=\"sk-toggleable__label sk-toggleable__label-arrow\">SVC</label><div class=\"sk-toggleable__content\"><pre>SVC(kernel=&#x27;linear&#x27;)</pre></div></div></div></div></div>"
      ],
      "text/plain": [
       "SVC(kernel='linear')"
      ]
     },
     "execution_count": 12,
     "metadata": {},
     "output_type": "execute_result"
    }
   ],
   "source": [
    "from sklearn.svm import SVC\n",
    "svc = SVC(kernel='linear')\n",
    "svc.fit(train_x_vector, train_y)"
   ]
  },
  {
   "cell_type": "markdown",
   "id": "ebcf93fc",
   "metadata": {
    "papermill": {
     "duration": 0.032846,
     "end_time": "2022-03-15T05:15:22.874553",
     "exception": false,
     "start_time": "2022-03-15T05:15:22.841707",
     "status": "completed"
    },
    "tags": []
   },
   "source": [
    "\n",
    "## Decision Tree\n"
   ]
  },
  {
   "cell_type": "code",
   "execution_count": 14,
   "id": "34212a78",
   "metadata": {
    "papermill": {
     "duration": 0.441794,
     "end_time": "2022-03-15T05:15:23.349529",
     "exception": false,
     "start_time": "2022-03-15T05:15:22.907735",
     "status": "completed"
    },
    "tags": []
   },
   "outputs": [
    {
     "data": {
      "text/html": [
       "<style>#sk-container-id-2 {color: black;background-color: white;}#sk-container-id-2 pre{padding: 0;}#sk-container-id-2 div.sk-toggleable {background-color: white;}#sk-container-id-2 label.sk-toggleable__label {cursor: pointer;display: block;width: 100%;margin-bottom: 0;padding: 0.3em;box-sizing: border-box;text-align: center;}#sk-container-id-2 label.sk-toggleable__label-arrow:before {content: \"▸\";float: left;margin-right: 0.25em;color: #696969;}#sk-container-id-2 label.sk-toggleable__label-arrow:hover:before {color: black;}#sk-container-id-2 div.sk-estimator:hover label.sk-toggleable__label-arrow:before {color: black;}#sk-container-id-2 div.sk-toggleable__content {max-height: 0;max-width: 0;overflow: hidden;text-align: left;background-color: #f0f8ff;}#sk-container-id-2 div.sk-toggleable__content pre {margin: 0.2em;color: black;border-radius: 0.25em;background-color: #f0f8ff;}#sk-container-id-2 input.sk-toggleable__control:checked~div.sk-toggleable__content {max-height: 200px;max-width: 100%;overflow: auto;}#sk-container-id-2 input.sk-toggleable__control:checked~label.sk-toggleable__label-arrow:before {content: \"▾\";}#sk-container-id-2 div.sk-estimator input.sk-toggleable__control:checked~label.sk-toggleable__label {background-color: #d4ebff;}#sk-container-id-2 div.sk-label input.sk-toggleable__control:checked~label.sk-toggleable__label {background-color: #d4ebff;}#sk-container-id-2 input.sk-hidden--visually {border: 0;clip: rect(1px 1px 1px 1px);clip: rect(1px, 1px, 1px, 1px);height: 1px;margin: -1px;overflow: hidden;padding: 0;position: absolute;width: 1px;}#sk-container-id-2 div.sk-estimator {font-family: monospace;background-color: #f0f8ff;border: 1px dotted black;border-radius: 0.25em;box-sizing: border-box;margin-bottom: 0.5em;}#sk-container-id-2 div.sk-estimator:hover {background-color: #d4ebff;}#sk-container-id-2 div.sk-parallel-item::after {content: \"\";width: 100%;border-bottom: 1px solid gray;flex-grow: 1;}#sk-container-id-2 div.sk-label:hover label.sk-toggleable__label {background-color: #d4ebff;}#sk-container-id-2 div.sk-serial::before {content: \"\";position: absolute;border-left: 1px solid gray;box-sizing: border-box;top: 0;bottom: 0;left: 50%;z-index: 0;}#sk-container-id-2 div.sk-serial {display: flex;flex-direction: column;align-items: center;background-color: white;padding-right: 0.2em;padding-left: 0.2em;position: relative;}#sk-container-id-2 div.sk-item {position: relative;z-index: 1;}#sk-container-id-2 div.sk-parallel {display: flex;align-items: stretch;justify-content: center;background-color: white;position: relative;}#sk-container-id-2 div.sk-item::before, #sk-container-id-2 div.sk-parallel-item::before {content: \"\";position: absolute;border-left: 1px solid gray;box-sizing: border-box;top: 0;bottom: 0;left: 50%;z-index: -1;}#sk-container-id-2 div.sk-parallel-item {display: flex;flex-direction: column;z-index: 1;position: relative;background-color: white;}#sk-container-id-2 div.sk-parallel-item:first-child::after {align-self: flex-end;width: 50%;}#sk-container-id-2 div.sk-parallel-item:last-child::after {align-self: flex-start;width: 50%;}#sk-container-id-2 div.sk-parallel-item:only-child::after {width: 0;}#sk-container-id-2 div.sk-dashed-wrapped {border: 1px dashed gray;margin: 0 0.4em 0.5em 0.4em;box-sizing: border-box;padding-bottom: 0.4em;background-color: white;}#sk-container-id-2 div.sk-label label {font-family: monospace;font-weight: bold;display: inline-block;line-height: 1.2em;}#sk-container-id-2 div.sk-label-container {text-align: center;}#sk-container-id-2 div.sk-container {/* jupyter's `normalize.less` sets `[hidden] { display: none; }` but bootstrap.min.css set `[hidden] { display: none !important; }` so we also need the `!important` here to be able to override the default hidden behavior on the sphinx rendered scikit-learn.org. See: https://github.com/scikit-learn/scikit-learn/issues/21755 */display: inline-block !important;position: relative;}#sk-container-id-2 div.sk-text-repr-fallback {display: none;}</style><div id=\"sk-container-id-2\" class=\"sk-top-container\"><div class=\"sk-text-repr-fallback\"><pre>DecisionTreeClassifier()</pre><b>In a Jupyter environment, please rerun this cell to show the HTML representation or trust the notebook. <br />On GitHub, the HTML representation is unable to render, please try loading this page with nbviewer.org.</b></div><div class=\"sk-container\" hidden><div class=\"sk-item\"><div class=\"sk-estimator sk-toggleable\"><input class=\"sk-toggleable__control sk-hidden--visually\" id=\"sk-estimator-id-2\" type=\"checkbox\" checked><label for=\"sk-estimator-id-2\" class=\"sk-toggleable__label sk-toggleable__label-arrow\">DecisionTreeClassifier</label><div class=\"sk-toggleable__content\"><pre>DecisionTreeClassifier()</pre></div></div></div></div></div>"
      ],
      "text/plain": [
       "DecisionTreeClassifier()"
      ]
     },
     "execution_count": 14,
     "metadata": {},
     "output_type": "execute_result"
    }
   ],
   "source": [
    "from sklearn.tree import DecisionTreeClassifier\n",
    "\n",
    "dec_tree = DecisionTreeClassifier()\n",
    "dec_tree.fit(train_x_vector, train_y)"
   ]
  },
  {
   "cell_type": "markdown",
   "id": "a6d2a975",
   "metadata": {
    "papermill": {
     "duration": 0.034775,
     "end_time": "2022-03-15T05:15:23.417977",
     "exception": false,
     "start_time": "2022-03-15T05:15:23.383202",
     "status": "completed"
    },
    "tags": []
   },
   "source": [
    "\n",
    "## Naive Bayes\n"
   ]
  },
  {
   "cell_type": "code",
   "execution_count": 15,
   "id": "db5d0439",
   "metadata": {
    "papermill": {
     "duration": 0.726787,
     "end_time": "2022-03-15T05:15:24.179350",
     "exception": false,
     "start_time": "2022-03-15T05:15:23.452563",
     "status": "completed"
    },
    "tags": []
   },
   "outputs": [
    {
     "data": {
      "text/html": [
       "<style>#sk-container-id-3 {color: black;background-color: white;}#sk-container-id-3 pre{padding: 0;}#sk-container-id-3 div.sk-toggleable {background-color: white;}#sk-container-id-3 label.sk-toggleable__label {cursor: pointer;display: block;width: 100%;margin-bottom: 0;padding: 0.3em;box-sizing: border-box;text-align: center;}#sk-container-id-3 label.sk-toggleable__label-arrow:before {content: \"▸\";float: left;margin-right: 0.25em;color: #696969;}#sk-container-id-3 label.sk-toggleable__label-arrow:hover:before {color: black;}#sk-container-id-3 div.sk-estimator:hover label.sk-toggleable__label-arrow:before {color: black;}#sk-container-id-3 div.sk-toggleable__content {max-height: 0;max-width: 0;overflow: hidden;text-align: left;background-color: #f0f8ff;}#sk-container-id-3 div.sk-toggleable__content pre {margin: 0.2em;color: black;border-radius: 0.25em;background-color: #f0f8ff;}#sk-container-id-3 input.sk-toggleable__control:checked~div.sk-toggleable__content {max-height: 200px;max-width: 100%;overflow: auto;}#sk-container-id-3 input.sk-toggleable__control:checked~label.sk-toggleable__label-arrow:before {content: \"▾\";}#sk-container-id-3 div.sk-estimator input.sk-toggleable__control:checked~label.sk-toggleable__label {background-color: #d4ebff;}#sk-container-id-3 div.sk-label input.sk-toggleable__control:checked~label.sk-toggleable__label {background-color: #d4ebff;}#sk-container-id-3 input.sk-hidden--visually {border: 0;clip: rect(1px 1px 1px 1px);clip: rect(1px, 1px, 1px, 1px);height: 1px;margin: -1px;overflow: hidden;padding: 0;position: absolute;width: 1px;}#sk-container-id-3 div.sk-estimator {font-family: monospace;background-color: #f0f8ff;border: 1px dotted black;border-radius: 0.25em;box-sizing: border-box;margin-bottom: 0.5em;}#sk-container-id-3 div.sk-estimator:hover {background-color: #d4ebff;}#sk-container-id-3 div.sk-parallel-item::after {content: \"\";width: 100%;border-bottom: 1px solid gray;flex-grow: 1;}#sk-container-id-3 div.sk-label:hover label.sk-toggleable__label {background-color: #d4ebff;}#sk-container-id-3 div.sk-serial::before {content: \"\";position: absolute;border-left: 1px solid gray;box-sizing: border-box;top: 0;bottom: 0;left: 50%;z-index: 0;}#sk-container-id-3 div.sk-serial {display: flex;flex-direction: column;align-items: center;background-color: white;padding-right: 0.2em;padding-left: 0.2em;position: relative;}#sk-container-id-3 div.sk-item {position: relative;z-index: 1;}#sk-container-id-3 div.sk-parallel {display: flex;align-items: stretch;justify-content: center;background-color: white;position: relative;}#sk-container-id-3 div.sk-item::before, #sk-container-id-3 div.sk-parallel-item::before {content: \"\";position: absolute;border-left: 1px solid gray;box-sizing: border-box;top: 0;bottom: 0;left: 50%;z-index: -1;}#sk-container-id-3 div.sk-parallel-item {display: flex;flex-direction: column;z-index: 1;position: relative;background-color: white;}#sk-container-id-3 div.sk-parallel-item:first-child::after {align-self: flex-end;width: 50%;}#sk-container-id-3 div.sk-parallel-item:last-child::after {align-self: flex-start;width: 50%;}#sk-container-id-3 div.sk-parallel-item:only-child::after {width: 0;}#sk-container-id-3 div.sk-dashed-wrapped {border: 1px dashed gray;margin: 0 0.4em 0.5em 0.4em;box-sizing: border-box;padding-bottom: 0.4em;background-color: white;}#sk-container-id-3 div.sk-label label {font-family: monospace;font-weight: bold;display: inline-block;line-height: 1.2em;}#sk-container-id-3 div.sk-label-container {text-align: center;}#sk-container-id-3 div.sk-container {/* jupyter's `normalize.less` sets `[hidden] { display: none; }` but bootstrap.min.css set `[hidden] { display: none !important; }` so we also need the `!important` here to be able to override the default hidden behavior on the sphinx rendered scikit-learn.org. See: https://github.com/scikit-learn/scikit-learn/issues/21755 */display: inline-block !important;position: relative;}#sk-container-id-3 div.sk-text-repr-fallback {display: none;}</style><div id=\"sk-container-id-3\" class=\"sk-top-container\"><div class=\"sk-text-repr-fallback\"><pre>GaussianNB()</pre><b>In a Jupyter environment, please rerun this cell to show the HTML representation or trust the notebook. <br />On GitHub, the HTML representation is unable to render, please try loading this page with nbviewer.org.</b></div><div class=\"sk-container\" hidden><div class=\"sk-item\"><div class=\"sk-estimator sk-toggleable\"><input class=\"sk-toggleable__control sk-hidden--visually\" id=\"sk-estimator-id-3\" type=\"checkbox\" checked><label for=\"sk-estimator-id-3\" class=\"sk-toggleable__label sk-toggleable__label-arrow\">GaussianNB</label><div class=\"sk-toggleable__content\"><pre>GaussianNB()</pre></div></div></div></div></div>"
      ],
      "text/plain": [
       "GaussianNB()"
      ]
     },
     "execution_count": 15,
     "metadata": {},
     "output_type": "execute_result"
    }
   ],
   "source": [
    "from sklearn.naive_bayes import GaussianNB\n",
    "gnb = GaussianNB()\n",
    "gnb.fit(train_x_vector.toarray(), train_y)"
   ]
  },
  {
   "cell_type": "markdown",
   "id": "89594f17",
   "metadata": {
    "papermill": {
     "duration": 0.033336,
     "end_time": "2022-03-15T05:15:24.246622",
     "exception": false,
     "start_time": "2022-03-15T05:15:24.213286",
     "status": "completed"
    },
    "tags": []
   },
   "source": [
    "\n",
    "## Logistic Regression\n"
   ]
  },
  {
   "cell_type": "code",
   "execution_count": 16,
   "id": "ff6b8d24",
   "metadata": {
    "papermill": {
     "duration": 0.22347,
     "end_time": "2022-03-15T05:15:24.503749",
     "exception": false,
     "start_time": "2022-03-15T05:15:24.280279",
     "status": "completed"
    },
    "tags": []
   },
   "outputs": [
    {
     "data": {
      "text/html": [
       "<style>#sk-container-id-4 {color: black;background-color: white;}#sk-container-id-4 pre{padding: 0;}#sk-container-id-4 div.sk-toggleable {background-color: white;}#sk-container-id-4 label.sk-toggleable__label {cursor: pointer;display: block;width: 100%;margin-bottom: 0;padding: 0.3em;box-sizing: border-box;text-align: center;}#sk-container-id-4 label.sk-toggleable__label-arrow:before {content: \"▸\";float: left;margin-right: 0.25em;color: #696969;}#sk-container-id-4 label.sk-toggleable__label-arrow:hover:before {color: black;}#sk-container-id-4 div.sk-estimator:hover label.sk-toggleable__label-arrow:before {color: black;}#sk-container-id-4 div.sk-toggleable__content {max-height: 0;max-width: 0;overflow: hidden;text-align: left;background-color: #f0f8ff;}#sk-container-id-4 div.sk-toggleable__content pre {margin: 0.2em;color: black;border-radius: 0.25em;background-color: #f0f8ff;}#sk-container-id-4 input.sk-toggleable__control:checked~div.sk-toggleable__content {max-height: 200px;max-width: 100%;overflow: auto;}#sk-container-id-4 input.sk-toggleable__control:checked~label.sk-toggleable__label-arrow:before {content: \"▾\";}#sk-container-id-4 div.sk-estimator input.sk-toggleable__control:checked~label.sk-toggleable__label {background-color: #d4ebff;}#sk-container-id-4 div.sk-label input.sk-toggleable__control:checked~label.sk-toggleable__label {background-color: #d4ebff;}#sk-container-id-4 input.sk-hidden--visually {border: 0;clip: rect(1px 1px 1px 1px);clip: rect(1px, 1px, 1px, 1px);height: 1px;margin: -1px;overflow: hidden;padding: 0;position: absolute;width: 1px;}#sk-container-id-4 div.sk-estimator {font-family: monospace;background-color: #f0f8ff;border: 1px dotted black;border-radius: 0.25em;box-sizing: border-box;margin-bottom: 0.5em;}#sk-container-id-4 div.sk-estimator:hover {background-color: #d4ebff;}#sk-container-id-4 div.sk-parallel-item::after {content: \"\";width: 100%;border-bottom: 1px solid gray;flex-grow: 1;}#sk-container-id-4 div.sk-label:hover label.sk-toggleable__label {background-color: #d4ebff;}#sk-container-id-4 div.sk-serial::before {content: \"\";position: absolute;border-left: 1px solid gray;box-sizing: border-box;top: 0;bottom: 0;left: 50%;z-index: 0;}#sk-container-id-4 div.sk-serial {display: flex;flex-direction: column;align-items: center;background-color: white;padding-right: 0.2em;padding-left: 0.2em;position: relative;}#sk-container-id-4 div.sk-item {position: relative;z-index: 1;}#sk-container-id-4 div.sk-parallel {display: flex;align-items: stretch;justify-content: center;background-color: white;position: relative;}#sk-container-id-4 div.sk-item::before, #sk-container-id-4 div.sk-parallel-item::before {content: \"\";position: absolute;border-left: 1px solid gray;box-sizing: border-box;top: 0;bottom: 0;left: 50%;z-index: -1;}#sk-container-id-4 div.sk-parallel-item {display: flex;flex-direction: column;z-index: 1;position: relative;background-color: white;}#sk-container-id-4 div.sk-parallel-item:first-child::after {align-self: flex-end;width: 50%;}#sk-container-id-4 div.sk-parallel-item:last-child::after {align-self: flex-start;width: 50%;}#sk-container-id-4 div.sk-parallel-item:only-child::after {width: 0;}#sk-container-id-4 div.sk-dashed-wrapped {border: 1px dashed gray;margin: 0 0.4em 0.5em 0.4em;box-sizing: border-box;padding-bottom: 0.4em;background-color: white;}#sk-container-id-4 div.sk-label label {font-family: monospace;font-weight: bold;display: inline-block;line-height: 1.2em;}#sk-container-id-4 div.sk-label-container {text-align: center;}#sk-container-id-4 div.sk-container {/* jupyter's `normalize.less` sets `[hidden] { display: none; }` but bootstrap.min.css set `[hidden] { display: none !important; }` so we also need the `!important` here to be able to override the default hidden behavior on the sphinx rendered scikit-learn.org. See: https://github.com/scikit-learn/scikit-learn/issues/21755 */display: inline-block !important;position: relative;}#sk-container-id-4 div.sk-text-repr-fallback {display: none;}</style><div id=\"sk-container-id-4\" class=\"sk-top-container\"><div class=\"sk-text-repr-fallback\"><pre>LogisticRegression()</pre><b>In a Jupyter environment, please rerun this cell to show the HTML representation or trust the notebook. <br />On GitHub, the HTML representation is unable to render, please try loading this page with nbviewer.org.</b></div><div class=\"sk-container\" hidden><div class=\"sk-item\"><div class=\"sk-estimator sk-toggleable\"><input class=\"sk-toggleable__control sk-hidden--visually\" id=\"sk-estimator-id-4\" type=\"checkbox\" checked><label for=\"sk-estimator-id-4\" class=\"sk-toggleable__label sk-toggleable__label-arrow\">LogisticRegression</label><div class=\"sk-toggleable__content\"><pre>LogisticRegression()</pre></div></div></div></div></div>"
      ],
      "text/plain": [
       "LogisticRegression()"
      ]
     },
     "execution_count": 16,
     "metadata": {},
     "output_type": "execute_result"
    }
   ],
   "source": [
    "from sklearn.linear_model import LogisticRegression\n",
    "\n",
    "log_reg = LogisticRegression()\n",
    "log_reg.fit(train_x_vector,train_y)"
   ]
  },
  {
   "cell_type": "markdown",
   "id": "a6e7b622",
   "metadata": {
    "papermill": {
     "duration": 0.034066,
     "end_time": "2022-03-15T05:15:24.714931",
     "exception": false,
     "start_time": "2022-03-15T05:15:24.680865",
     "status": "completed"
    },
    "tags": []
   },
   "source": [
    "\n",
    "# 5. Model Evaluation\n"
   ]
  },
  {
   "cell_type": "markdown",
   "id": "8beff619",
   "metadata": {
    "papermill": {
     "duration": 0.033526,
     "end_time": "2022-03-15T05:15:24.782239",
     "exception": false,
     "start_time": "2022-03-15T05:15:24.748713",
     "status": "completed"
    },
    "tags": []
   },
   "source": [
    "## Mean Accuracy"
   ]
  },
  {
   "cell_type": "code",
   "execution_count": 17,
   "id": "cb10d1cb",
   "metadata": {
    "papermill": {
     "duration": 1.096187,
     "end_time": "2022-03-15T05:15:25.912314",
     "exception": false,
     "start_time": "2022-03-15T05:15:24.816127",
     "status": "completed"
    },
    "tags": []
   },
   "outputs": [
    {
     "name": "stdout",
     "output_type": "stream",
     "text": [
      "0.8690909090909091\n",
      "0.6948484848484848\n",
      "0.6412121212121212\n",
      "0.8678787878787879\n"
     ]
    }
   ],
   "source": [
    "print(svc.score(test_x_vector, test_y))\n",
    "print(dec_tree.score(test_x_vector, test_y))\n",
    "print(gnb.score(test_x_vector.toarray(), test_y))\n",
    "print(log_reg.score(test_x_vector, test_y))"
   ]
  },
  {
   "cell_type": "markdown",
   "id": "d10d530d",
   "metadata": {
    "papermill": {
     "duration": 0.035591,
     "end_time": "2022-03-15T05:15:25.983542",
     "exception": false,
     "start_time": "2022-03-15T05:15:25.947951",
     "status": "completed"
    },
    "tags": []
   },
   "source": [
    "Yukarıdaki skorlara bakılırsa en iyi sonuç veren modeller SVM ve Logistic Regression oluyor."
   ]
  },
  {
   "cell_type": "markdown",
   "id": "da729628",
   "metadata": {
    "papermill": {
     "duration": 0.035618,
     "end_time": "2022-03-15T05:15:26.054248",
     "exception": false,
     "start_time": "2022-03-15T05:15:26.018630",
     "status": "completed"
    },
    "tags": []
   },
   "source": [
    "## F1 Score\n",
    "\n",
    "SVM modelin F1 skoru"
   ]
  },
  {
   "cell_type": "code",
   "execution_count": 18,
   "id": "afe43eba",
   "metadata": {
    "papermill": {
     "duration": 0.784617,
     "end_time": "2022-03-15T05:15:26.874397",
     "exception": false,
     "start_time": "2022-03-15T05:15:26.089780",
     "status": "completed"
    },
    "tags": []
   },
   "outputs": [
    {
     "data": {
      "text/plain": [
       "array([0.87301587, 0.86491557])"
      ]
     },
     "execution_count": 18,
     "metadata": {},
     "output_type": "execute_result"
    }
   ],
   "source": [
    "from sklearn.metrics import f1_score\n",
    "\n",
    "f1_score(test_y,svc.predict(test_x_vector),\n",
    "          labels = [1,0],average=None)"
   ]
  },
  {
   "cell_type": "markdown",
   "id": "7a09de86",
   "metadata": {
    "papermill": {
     "duration": 0.042176,
     "end_time": "2022-03-15T05:15:26.962361",
     "exception": false,
     "start_time": "2022-03-15T05:15:26.920185",
     "status": "completed"
    },
    "tags": []
   },
   "source": [
    "## Classification report"
   ]
  },
  {
   "cell_type": "code",
   "execution_count": 19,
   "id": "7b033bc1",
   "metadata": {
    "papermill": {
     "duration": 0.801379,
     "end_time": "2022-03-15T05:15:27.809238",
     "exception": false,
     "start_time": "2022-03-15T05:15:27.007859",
     "status": "completed"
    },
    "tags": []
   },
   "outputs": [
    {
     "name": "stdout",
     "output_type": "stream",
     "text": [
      "              precision    recall  f1-score   support\n",
      "\n",
      "           1       0.86      0.88      0.87      1678\n",
      "           0       0.88      0.85      0.86      1622\n",
      "\n",
      "    accuracy                           0.87      3300\n",
      "   macro avg       0.87      0.87      0.87      3300\n",
      "weighted avg       0.87      0.87      0.87      3300\n",
      "\n"
     ]
    }
   ],
   "source": [
    "from sklearn.metrics import classification_report\n",
    "\n",
    "print(classification_report(test_y,\n",
    "                            svc.predict(test_x_vector),\n",
    "                            labels = [1,0]))"
   ]
  },
  {
   "cell_type": "markdown",
   "id": "6d0c4cd9",
   "metadata": {
    "papermill": {
     "duration": 0.034895,
     "end_time": "2022-03-15T05:15:27.881865",
     "exception": false,
     "start_time": "2022-03-15T05:15:27.846970",
     "status": "completed"
    },
    "tags": []
   },
   "source": [
    "## Confusion Matrix\n",
    "\n",
    "Matrix oluşturularak doğru ve yanlış tahminlerin dağılımı incelenebilir"
   ]
  },
  {
   "cell_type": "code",
   "execution_count": 20,
   "id": "bb205b4d",
   "metadata": {
    "papermill": {
     "duration": 0.77995,
     "end_time": "2022-03-15T05:15:28.697136",
     "exception": false,
     "start_time": "2022-03-15T05:15:27.917186",
     "status": "completed"
    },
    "tags": []
   },
   "outputs": [
    {
     "data": {
      "text/plain": [
       "array([[1485,  193],\n",
       "       [ 239, 1383]], dtype=int64)"
      ]
     },
     "execution_count": 20,
     "metadata": {},
     "output_type": "execute_result"
    }
   ],
   "source": [
    "from sklearn.metrics import confusion_matrix\n",
    "\n",
    "conf_mat = confusion_matrix(test_y,\n",
    "                           svc.predict(test_x_vector),\n",
    "                           labels = [1, 0])\n",
    "conf_mat"
   ]
  },
  {
   "cell_type": "markdown",
   "id": "23dc2714",
   "metadata": {
    "papermill": {
     "duration": 0.035267,
     "end_time": "2022-03-15T05:15:28.768202",
     "exception": false,
     "start_time": "2022-03-15T05:15:28.732935",
     "status": "completed"
    },
    "tags": []
   },
   "source": [
    "\n",
    "# 6. Try A Different Approach\n"
   ]
  },
  {
   "cell_type": "markdown",
   "id": "63a79cfb",
   "metadata": {
    "papermill": {
     "duration": 0.036149,
     "end_time": "2022-03-15T05:15:28.840853",
     "exception": false,
     "start_time": "2022-03-15T05:15:28.804704",
     "status": "completed"
    },
    "tags": []
   },
   "source": [
    "## GridSearchCV\n",
    "\n",
    "Farklı parametrelerin çalıştırılmasıyla en iyi olan parametreyi bulmaya çalışıyor. Diğer yöntemlerden daha uzun sürüyor."
   ]
  },
  {
   "cell_type": "code",
   "execution_count": 21,
   "id": "8be5a4ef",
   "metadata": {
    "papermill": {
     "duration": 71.883067,
     "end_time": "2022-03-15T05:16:40.761347",
     "exception": false,
     "start_time": "2022-03-15T05:15:28.878280",
     "status": "completed"
    },
    "tags": []
   },
   "outputs": [
    {
     "data": {
      "text/html": [
       "<style>#sk-container-id-5 {color: black;background-color: white;}#sk-container-id-5 pre{padding: 0;}#sk-container-id-5 div.sk-toggleable {background-color: white;}#sk-container-id-5 label.sk-toggleable__label {cursor: pointer;display: block;width: 100%;margin-bottom: 0;padding: 0.3em;box-sizing: border-box;text-align: center;}#sk-container-id-5 label.sk-toggleable__label-arrow:before {content: \"▸\";float: left;margin-right: 0.25em;color: #696969;}#sk-container-id-5 label.sk-toggleable__label-arrow:hover:before {color: black;}#sk-container-id-5 div.sk-estimator:hover label.sk-toggleable__label-arrow:before {color: black;}#sk-container-id-5 div.sk-toggleable__content {max-height: 0;max-width: 0;overflow: hidden;text-align: left;background-color: #f0f8ff;}#sk-container-id-5 div.sk-toggleable__content pre {margin: 0.2em;color: black;border-radius: 0.25em;background-color: #f0f8ff;}#sk-container-id-5 input.sk-toggleable__control:checked~div.sk-toggleable__content {max-height: 200px;max-width: 100%;overflow: auto;}#sk-container-id-5 input.sk-toggleable__control:checked~label.sk-toggleable__label-arrow:before {content: \"▾\";}#sk-container-id-5 div.sk-estimator input.sk-toggleable__control:checked~label.sk-toggleable__label {background-color: #d4ebff;}#sk-container-id-5 div.sk-label input.sk-toggleable__control:checked~label.sk-toggleable__label {background-color: #d4ebff;}#sk-container-id-5 input.sk-hidden--visually {border: 0;clip: rect(1px 1px 1px 1px);clip: rect(1px, 1px, 1px, 1px);height: 1px;margin: -1px;overflow: hidden;padding: 0;position: absolute;width: 1px;}#sk-container-id-5 div.sk-estimator {font-family: monospace;background-color: #f0f8ff;border: 1px dotted black;border-radius: 0.25em;box-sizing: border-box;margin-bottom: 0.5em;}#sk-container-id-5 div.sk-estimator:hover {background-color: #d4ebff;}#sk-container-id-5 div.sk-parallel-item::after {content: \"\";width: 100%;border-bottom: 1px solid gray;flex-grow: 1;}#sk-container-id-5 div.sk-label:hover label.sk-toggleable__label {background-color: #d4ebff;}#sk-container-id-5 div.sk-serial::before {content: \"\";position: absolute;border-left: 1px solid gray;box-sizing: border-box;top: 0;bottom: 0;left: 50%;z-index: 0;}#sk-container-id-5 div.sk-serial {display: flex;flex-direction: column;align-items: center;background-color: white;padding-right: 0.2em;padding-left: 0.2em;position: relative;}#sk-container-id-5 div.sk-item {position: relative;z-index: 1;}#sk-container-id-5 div.sk-parallel {display: flex;align-items: stretch;justify-content: center;background-color: white;position: relative;}#sk-container-id-5 div.sk-item::before, #sk-container-id-5 div.sk-parallel-item::before {content: \"\";position: absolute;border-left: 1px solid gray;box-sizing: border-box;top: 0;bottom: 0;left: 50%;z-index: -1;}#sk-container-id-5 div.sk-parallel-item {display: flex;flex-direction: column;z-index: 1;position: relative;background-color: white;}#sk-container-id-5 div.sk-parallel-item:first-child::after {align-self: flex-end;width: 50%;}#sk-container-id-5 div.sk-parallel-item:last-child::after {align-self: flex-start;width: 50%;}#sk-container-id-5 div.sk-parallel-item:only-child::after {width: 0;}#sk-container-id-5 div.sk-dashed-wrapped {border: 1px dashed gray;margin: 0 0.4em 0.5em 0.4em;box-sizing: border-box;padding-bottom: 0.4em;background-color: white;}#sk-container-id-5 div.sk-label label {font-family: monospace;font-weight: bold;display: inline-block;line-height: 1.2em;}#sk-container-id-5 div.sk-label-container {text-align: center;}#sk-container-id-5 div.sk-container {/* jupyter's `normalize.less` sets `[hidden] { display: none; }` but bootstrap.min.css set `[hidden] { display: none !important; }` so we also need the `!important` here to be able to override the default hidden behavior on the sphinx rendered scikit-learn.org. See: https://github.com/scikit-learn/scikit-learn/issues/21755 */display: inline-block !important;position: relative;}#sk-container-id-5 div.sk-text-repr-fallback {display: none;}</style><div id=\"sk-container-id-5\" class=\"sk-top-container\"><div class=\"sk-text-repr-fallback\"><pre>GridSearchCV(cv=5, estimator=SVC(), n_jobs=-1,\n",
       "             param_grid={&#x27;C&#x27;: [1, 4, 8, 16], &#x27;kernel&#x27;: [&#x27;linear&#x27;, &#x27;rbf&#x27;]})</pre><b>In a Jupyter environment, please rerun this cell to show the HTML representation or trust the notebook. <br />On GitHub, the HTML representation is unable to render, please try loading this page with nbviewer.org.</b></div><div class=\"sk-container\" hidden><div class=\"sk-item sk-dashed-wrapped\"><div class=\"sk-label-container\"><div class=\"sk-label sk-toggleable\"><input class=\"sk-toggleable__control sk-hidden--visually\" id=\"sk-estimator-id-5\" type=\"checkbox\" ><label for=\"sk-estimator-id-5\" class=\"sk-toggleable__label sk-toggleable__label-arrow\">GridSearchCV</label><div class=\"sk-toggleable__content\"><pre>GridSearchCV(cv=5, estimator=SVC(), n_jobs=-1,\n",
       "             param_grid={&#x27;C&#x27;: [1, 4, 8, 16], &#x27;kernel&#x27;: [&#x27;linear&#x27;, &#x27;rbf&#x27;]})</pre></div></div></div><div class=\"sk-parallel\"><div class=\"sk-parallel-item\"><div class=\"sk-item\"><div class=\"sk-label-container\"><div class=\"sk-label sk-toggleable\"><input class=\"sk-toggleable__control sk-hidden--visually\" id=\"sk-estimator-id-6\" type=\"checkbox\" ><label for=\"sk-estimator-id-6\" class=\"sk-toggleable__label sk-toggleable__label-arrow\">estimator: SVC</label><div class=\"sk-toggleable__content\"><pre>SVC()</pre></div></div></div><div class=\"sk-serial\"><div class=\"sk-item\"><div class=\"sk-estimator sk-toggleable\"><input class=\"sk-toggleable__control sk-hidden--visually\" id=\"sk-estimator-id-7\" type=\"checkbox\" ><label for=\"sk-estimator-id-7\" class=\"sk-toggleable__label sk-toggleable__label-arrow\">SVC</label><div class=\"sk-toggleable__content\"><pre>SVC()</pre></div></div></div></div></div></div></div></div></div></div>"
      ],
      "text/plain": [
       "GridSearchCV(cv=5, estimator=SVC(), n_jobs=-1,\n",
       "             param_grid={'C': [1, 4, 8, 16], 'kernel': ['linear', 'rbf']})"
      ]
     },
     "execution_count": 21,
     "metadata": {},
     "output_type": "execute_result"
    }
   ],
   "source": [
    "from sklearn.model_selection import GridSearchCV\n",
    "#set the parameters\n",
    "params = {'C': [1,4,8,16], 'kernel' : ['linear','rbf']}\n",
    "svc_in_gridCV = SVC()\n",
    "svc_grid = GridSearchCV(svc_in_gridCV,params, cv = 5, n_jobs=-1)\n",
    "svc_grid.fit(train_x_vector, train_y)"
   ]
  },
  {
   "cell_type": "code",
   "execution_count": 22,
   "id": "6999e1ff",
   "metadata": {
    "papermill": {
     "duration": 0.04473,
     "end_time": "2022-03-15T05:16:40.842043",
     "exception": false,
     "start_time": "2022-03-15T05:16:40.797313",
     "status": "completed"
    },
    "tags": []
   },
   "outputs": [
    {
     "name": "stdout",
     "output_type": "stream",
     "text": [
      "{'C': 4, 'kernel': 'rbf'}\n",
      "SVC(C=4)\n"
     ]
    }
   ],
   "source": [
    "print(svc_grid.best_params_)\n",
    "print(svc_grid.best_estimator_)"
   ]
  },
  {
   "cell_type": "markdown",
   "id": "967feb98",
   "metadata": {
    "papermill": {
     "duration": 0.037315,
     "end_time": "2022-03-15T05:16:40.916401",
     "exception": false,
     "start_time": "2022-03-15T05:16:40.879086",
     "status": "completed"
    },
    "tags": []
   },
   "source": [
    "En iyi yöntem olarak C: 4, kernel: rbf bulundu. Daha yüksek skoru bu parametrelerle elde edebiliriz"
   ]
  },
  {
   "cell_type": "code",
   "execution_count": 23,
   "id": "178ad2ce-f2b9-4f9f-bc84-7c9b1248fedb",
   "metadata": {},
   "outputs": [
    {
     "data": {
      "text/plain": [
       "0.8703030303030304"
      ]
     },
     "execution_count": 23,
     "metadata": {},
     "output_type": "execute_result"
    }
   ],
   "source": [
    "svc_grid.score(test_x_vector, test_y)"
   ]
  },
  {
   "cell_type": "code",
   "execution_count": 24,
   "id": "602e902d-fb11-4f70-b418-44d1407655c5",
   "metadata": {},
   "outputs": [],
   "source": [
    "import webScraper"
   ]
  },
  {
   "cell_type": "markdown",
   "id": "a42723a3-6500-48a2-af3f-e388aa2ddc2f",
   "metadata": {},
   "source": [
    "## How I Met Your Mother dizisi için sentiment analizi yapılacak"
   ]
  },
  {
   "cell_type": "code",
   "execution_count": 25,
   "id": "95b700ef-1f73-4ff6-8c11-dbcc1d8e7add",
   "metadata": {},
   "outputs": [
    {
     "name": "stdout",
     "output_type": "stream",
     "text": [
      "Loading comments: 995/995 [==================================================]\n",
      "All comments 995\n",
      "\n",
      "find specific 0.00764159995742375\n",
      ", find all next 0.14046280000184197\n",
      ", extract text 0.10372949993325165\n",
      ", find review count 0.04324289999931352\n",
      ", init soups 1.4155541000218363\n",
      ", load page source 31.175738400008413\n",
      "Total time: 33.092256799995084\n"
     ]
    }
   ],
   "source": [
    "imdb_url = \"https://www.imdb.com/title/tt0460649/reviews\"\n",
    "\n",
    "comments = webScraper.scrape_for_comments(imdb_url)\n"
   ]
  },
  {
   "cell_type": "code",
   "execution_count": 26,
   "id": "0be68987-e033-42d4-99ff-63a85d2ca594",
   "metadata": {
    "tags": []
   },
   "outputs": [
    {
     "data": {
      "text/plain": [
       "0      one people happy ending give bad rating one si...\n",
       "1      met mother go one better comedies all-time rig...\n",
       "2      one original funny sitcoms 've watching bad wo...\n",
       "3      note n't start watching show till past fall 20...\n",
       "4      great show binge watch mainly flash backs n't ...\n",
       "                             ...                        \n",
       "990    watch every show least twice three four times ...\n",
       "991    review contains spoilers met mother hands grea...\n",
       "992    ok officially seen everythingand 'm sad mean n...\n",
       "993    's pretty great show little bit right conversa...\n",
       "994    first started watching show would see pop netf...\n",
       "Length: 995, dtype: object"
      ]
     },
     "execution_count": 26,
     "metadata": {},
     "output_type": "execute_result"
    }
   ],
   "source": [
    "np_array = pd.Series(list(comments))\n",
    "np_review_preprocessed = np_array[:].apply(preprocess_text)\n",
    "np_review_preprocessed"
   ]
  },
  {
   "cell_type": "code",
   "execution_count": 27,
   "id": "ebdcd4b8-21a6-460a-83b8-66cd766dfc4b",
   "metadata": {},
   "outputs": [],
   "source": [
    "\n",
    "comment_vector = tfidf.transform(np_review_preprocessed)"
   ]
  },
  {
   "cell_type": "code",
   "execution_count": 28,
   "id": "917f688b-c113-4f5c-b982-8e315aeb2821",
   "metadata": {},
   "outputs": [],
   "source": [
    "\n",
    "comments_pred = svc_grid.predict(comment_vector)"
   ]
  },
  {
   "cell_type": "code",
   "execution_count": 29,
   "id": "7c47935f-3fa2-4f59-856d-d61d1ee8ec37",
   "metadata": {},
   "outputs": [
    {
     "data": {
      "text/plain": [
       "(215, 780)"
      ]
     },
     "execution_count": 29,
     "metadata": {},
     "output_type": "execute_result"
    }
   ],
   "source": [
    "len(comments_pred[comments_pred == 0]), len(comments_pred[comments_pred == 1])"
   ]
  },
  {
   "cell_type": "code",
   "execution_count": 30,
   "id": "8ae0cb55-e216-4aef-ac00-1f61df879eff",
   "metadata": {},
   "outputs": [],
   "source": [
    "svc_comments_pred = svc.predict(comment_vector)"
   ]
  },
  {
   "cell_type": "code",
   "execution_count": 31,
   "id": "f2cab4fa-d198-4139-889d-d47b9f2ded9d",
   "metadata": {},
   "outputs": [],
   "source": [
    "coefficients = svc.coef_\n"
   ]
  },
  {
   "cell_type": "code",
   "execution_count": 32,
   "id": "57e72a87-d0c5-478a-bbed-9da8aa4e824d",
   "metadata": {},
   "outputs": [],
   "source": [
    "\n",
    "feature_names = tfidf.get_feature_names_out()\n",
    "\n",
    "# Assuming you have coefficients from a logistic regression model\n",
    "feature_coefficients = dict(zip(feature_names, coefficients[0]))"
   ]
  },
  {
   "cell_type": "code",
   "execution_count": 33,
   "id": "a5b4e526-b60b-48be-bdab-d7d9ae19bf85",
   "metadata": {},
   "outputs": [
    {
     "name": "stdout",
     "output_type": "stream",
     "text": [
      "dict_values([<1x43929 sparse matrix of type '<class 'numpy.float64'>'\n",
      "\twith 37785 stored elements in Compressed Sparse Row format>])\n"
     ]
    }
   ],
   "source": [
    "print(feature_coefficients.values())"
   ]
  },
  {
   "cell_type": "markdown",
   "id": "c12f8a3c-d15b-4207-b5d8-8cec1df4accc",
   "metadata": {},
   "source": [
    "### NOT:: Bu method kelimelerin önemlerini hesaplıyor ve çıktı olarak üretiyor. AMA çalışması 1-2 dk sürüyor ve yaklaşık 40 GB RAM tüketiyor. "
   ]
  },
  {
   "cell_type": "code",
   "execution_count": 34,
   "id": "b08dd99a-2064-49b8-b418-15901cb86eb0",
   "metadata": {},
   "outputs": [],
   "source": [
    "def get_top_important_words(vectorizer, vector):\n",
    "    # Get the feature names\n",
    "    feature_names = vectorizer.get_feature_names_out()\n",
    "\n",
    "    # Get the IDF scores\n",
    "    idf_scores = vectorizer.idf_\n",
    "    \n",
    "    # Calculate word importance\n",
    "    word_importance = idf_scores.reshape(-1, 1) * vector.mean(axis=0)\n",
    "\n",
    "    # Sort words based on importance score\n",
    "    sorted_indices = word_importance.argsort()[0, ::-1]\n",
    "    sorted_words = [feature_names[idx] for idx in sorted_indices]\n",
    "\n",
    "    # Select top N words\n",
    "    top_n = 50\n",
    "    top_words = sorted_words[:top_n]\n",
    "\n",
    "    return top_words"
   ]
  },
  {
   "cell_type": "code",
   "execution_count": 35,
   "id": "17b152ad-c1b9-46b3-b3b0-51705580f401",
   "metadata": {},
   "outputs": [
    {
     "name": "stdout",
     "output_type": "stream",
     "text": [
      "ted, barney, season, robin, friends, mother, met, series, episode, seasons, love, sitcom, ending, episodes, lily, watch, funny, characters, really, watching, great, like, marshall, best, watched, character, good, time, life, harris, comedy, neil, story, end, amazing, tv, shows, patrick, jokes, perfect, 10, think, sitcoms, people, know, makes, times, dary, ve, wait, \n"
     ]
    }
   ],
   "source": [
    "sorted_words = get_top_important_words(tfidf, comment_vector)\n",
    "reason = \"\"\n",
    "for word in range(50):\n",
    "    reason += sorted_words[0][0][word] + \", \"\n",
    "\n",
    "print(reason)"
   ]
  },
  {
   "cell_type": "code",
   "execution_count": 36,
   "id": "a6ed759d-ff1c-445a-b624-68bc33168f5d",
   "metadata": {},
   "outputs": [
    {
     "data": {
      "image/png": "[encoded data removed]",
      "text/plain": [
       "<Figure size 800x400 with 1 Axes>"
      ]
     },
     "metadata": {},
     "output_type": "display_data"
    }
   ],
   "source": [
    "colors = sns.color_palette('deep')\n",
    "\n",
    "plt.figure(figsize=(8,4), tight_layout=True)\n",
    "plt.bar(x=['Positive', 'Negative'],\n",
    "        height=pd.Series(comments_pred).value_counts(['label']),\n",
    "        color=colors[:2])\n",
    "plt.title('Sentiment')\n",
    "plt.show()\n"
   ]
  },
  {
   "cell_type": "markdown",
   "id": "631f7396-68da-4e3e-86c9-b7456d94cdd1",
   "metadata": {},
   "source": [
    "### Daha kısa sürecek ve daha az bellek kullanacak method geliştirildi ancak method çıktıları alakasız ve çoğu zaman istenmeyen sonuçlar gösteriyor"
   ]
  },
  {
   "cell_type": "code",
   "execution_count": 37,
   "id": "34e3fafd-972a-4ddc-9720-08f6ef08cd67",
   "metadata": {},
   "outputs": [],
   "source": [
    "def get_top_important_words_optimized(vectorizer, vector):\n",
    "    # Get the feature names\n",
    "    feature_names = vectorizer.get_feature_names_out()\n",
    "\n",
    "    print(vectorizer.idf_.shape, vector.shape)\n",
    "    # Calculate word importance\n",
    "    word_importance = vectorizer.idf_.reshape(-1, 1).T * vector.T\n",
    "\n",
    "    # Convert the 2-dimensional array to 1-dimensional\n",
    "    word_importance = np.asarray(word_importance).ravel()\n",
    "\n",
    "    # Sort words based on importance score\n",
    "    sorted_indices = word_importance.argsort()[::-1]\n",
    "    sorted_words = [feature_names[idx] for idx in sorted_indices]\n",
    "\n",
    "    # Select top N words\n",
    "    top_n = 50\n",
    "    top_words = sorted_words[:top_n]\n",
    "\n",
    "    return top_words"
   ]
  },
  {
   "cell_type": "code",
   "execution_count": 38,
   "id": "3904e98c-f008-4db3-81ed-caf65d2a7fab",
   "metadata": {
    "tags": []
   },
   "outputs": [
    {
     "name": "stdout",
     "output_type": "stream",
     "text": [
      "(43929,) (995, 43929)\n"
     ]
    },
    {
     "data": {
      "text/plain": [
       "['11',\n",
       " 'accommodation',\n",
       " '04',\n",
       " '10k',\n",
       " '1867',\n",
       " 'accumulator',\n",
       " '198',\n",
       " '4x100',\n",
       " 'absent',\n",
       " 'adibah',\n",
       " '23rd',\n",
       " '750',\n",
       " '_almost_',\n",
       " '3d',\n",
       " '20',\n",
       " 'abominable',\n",
       " '700',\n",
       " '1917',\n",
       " '197something',\n",
       " 'aardvarks',\n",
       " '102',\n",
       " '1971',\n",
       " '007',\n",
       " 'abortionist',\n",
       " 'abe',\n",
       " 'abbott',\n",
       " '08th',\n",
       " 'acquire',\n",
       " '1921',\n",
       " 'accomplished',\n",
       " '57',\n",
       " '3pm',\n",
       " '10min',\n",
       " '1990s',\n",
       " '3am',\n",
       " '541',\n",
       " '12',\n",
       " '120kmph',\n",
       " 'adding',\n",
       " '25s',\n",
       " '1960',\n",
       " '146',\n",
       " '1847',\n",
       " 'adept',\n",
       " '400lb',\n",
       " 'acrobatic',\n",
       " '28',\n",
       " '01',\n",
       " '35mm',\n",
       " 'abiding']"
      ]
     },
     "execution_count": 38,
     "metadata": {},
     "output_type": "execute_result"
    }
   ],
   "source": [
    "sorted_optimized_words = get_top_important_words_optimized(tfidf, comment_vector)\n",
    "sorted_optimized_words"
   ]
  },
  {
   "cell_type": "code",
   "execution_count": 39,
   "id": "6fc87adf-af3a-44c0-8a36-1a189a94799d",
   "metadata": {},
   "outputs": [
    {
     "name": "stdout",
     "output_type": "stream",
     "text": [
      "11, accommodation, 04, 10k, 1867, accumulator, 198, 4x100, absent, adibah, 23rd, 750, _almost_, 3d, 20, abominable, 700, 1917, 197something, aardvarks, 102, 1971, 007, abortionist, abe, abbott, 08th, acquire, 1921, accomplished, 57, 3pm, 10min, 1990s, 3am, 541, 12, 120kmph, adding, 25s, 1960, 146, 1847, adept, 400lb, acrobatic, 28, 01, 35mm, abiding, \n"
     ]
    }
   ],
   "source": [
    "reason_optimized = \"\"\n",
    "for word in range(50):\n",
    "    reason_optimized += sorted_optimized_words[word] + \", \"\n",
    "\n",
    "print(reason_optimized)"
   ]
  },
  {
   "cell_type": "markdown",
   "id": "1565d1a4-621d-4977-89a9-36ad6c81bd26",
   "metadata": {},
   "source": [
    "### Kelimelerin önemi daha verimli bir şekilde elde ediliyor ancak detaylı olmadığı için aralarında konuyla ilgili olmayan terimler de bulunuyor"
   ]
  },
  {
   "cell_type": "code",
   "execution_count": 40,
   "id": "346c7b7b-0a00-4cbc-8211-1a48eba744e8",
   "metadata": {
    "tags": []
   },
   "outputs": [
    {
     "name": "stdout",
     "output_type": "stream",
     "text": [
      "barney\n",
      "netflix\n",
      "watch\n",
      "hangout\n",
      "outgoing\n",
      "lily\n",
      "amazing\n",
      "wants\n",
      "marshal\n",
      "anchor\n",
      "flip\n",
      "commitment\n",
      "channels\n",
      "whats\n",
      "challenges\n",
      "picking\n",
      "chicks\n",
      "ted\n",
      "stopped\n",
      "robin\n",
      "hated\n",
      "thing\n",
      "afraid\n",
      "pop\n",
      "bar\n",
      "loving\n",
      "childhood\n",
      "news\n",
      "anymore\n",
      "know\n",
      "loves\n",
      "mainly\n",
      "fully\n",
      "catch\n",
      "amusing\n",
      "college\n",
      "ended\n",
      "laughs\n",
      "crazy\n",
      "started\n",
      "really\n",
      "attention\n",
      "episode\n",
      "happened\n",
      "group\n",
      "huge\n",
      "highly\n",
      "beginning\n",
      "guys\n",
      "wanted\n"
     ]
    }
   ],
   "source": [
    "feature_array = np.array(tfidf.get_feature_names_out())\n",
    "tfidf_sorting = np.argsort(comment_vector.toarray()).flatten()[::-1]\n",
    "\n",
    "n = 50\n",
    "top_n = feature_array[tfidf_sorting][:n]\n",
    "\n",
    "for i in top_n:\n",
    "    print(i)"
   ]
  },
  {
   "cell_type": "markdown",
   "id": "def4f382-2295-4640-ae10-5a6bb7c32b52",
   "metadata": {},
   "source": [
    "## Citadel dizisinin sentiment analizi ve karar vermedeki önemli kelimeleri"
   ]
  },
  {
   "cell_type": "code",
   "execution_count": 41,
   "id": "3c7b6684-c507-4941-838f-dd6a71725cc6",
   "metadata": {},
   "outputs": [
    {
     "name": "stdout",
     "output_type": "stream",
     "text": [
      "Loading comments: 256/256 [==================================================]\n",
      "All comments 256\n",
      "\n",
      "find specific 0.004294499987736344\n",
      ", find all next 0.037321299976611044\n",
      ", extract text 0.024788500093563925\n",
      ", find review count 0.04577609999978449\n",
      ", init soups 0.4565632999947411\n",
      ", load page source 6.897139100008644\n",
      "Total time: 7.521231899998384\n",
      "spy, citadel, series, madden, tucci, priyanka, action, chopra, episode, episodes, stanley, good, amazon, like, bond, story, richard, bourne, watch, watching, bad, plot, script, season, jonas, shows, really, mason, acting, great, characters, actors, spies, train, time, storyline, better, movies, going, scenes, prime, tv, james, make, russo, trying, writing, production, new, world, \n"
     ]
    }
   ],
   "source": [
    "imdb_url = \"https://www.imdb.com/title/tt9794044/reviews\"\n",
    "\n",
    "citadel_comments = webScraper.scrape_for_comments(imdb_url)\n",
    "citadel_array = pd.Series(list(citadel_comments))\n",
    "citadel_review_preprocessed = citadel_array[:].apply(preprocess_text)\n",
    "\n",
    "citadel_comment_vector = tfidf.transform(citadel_review_preprocessed)\n",
    "citadel_comments_pred = svc_grid.predict(citadel_comment_vector)\n",
    "\n",
    "top_words = get_top_important_words(tfidf, citadel_comment_vector)\n",
    "\n",
    "reason = \"\"\n",
    "for word in range(50):\n",
    "    reason += top_words[0][0][word] + \", \"\n",
    "\n",
    "print(reason)"
   ]
  },
  {
   "cell_type": "code",
   "execution_count": 43,
   "id": "22f1cc83-8735-420b-9f7a-f7c0f0cbdf7d",
   "metadata": {},
   "outputs": [
    {
     "data": {
      "image/png": "[encoded data removed]",
      "text/plain": [
       "<Figure size 800x400 with 1 Axes>"
      ]
     },
     "metadata": {},
     "output_type": "display_data"
    }
   ],
   "source": [
    "colors = sns.color_palette('deep')\n",
    "\n",
    "plt.figure(figsize=(8,4), tight_layout=True)\n",
    "plt.bar(x=['Positive', 'Negative'],\n",
    "        height=pd.Series(citadel_comments_pred).value_counts(['label']),\n",
    "        color=colors[:2])\n",
    "plt.title('Sentiment')\n",
    "plt.show()\n"
   ]
  },
  {
   "cell_type": "code",
   "execution_count": null,
   "id": "6cbfd4c5-5a57-4a9a-aa7f-8de93551d2eb",
   "metadata": {},
   "outputs": [],
   "source": []
  }
 ],
 "metadata": {
  "kernelspec": {
   "display_name": "Python 3 (ipykernel)",
   "language": "python",
   "name": "python3"
  },
  "language_info": {
   "codemirror_mode": {
    "name": "ipython",
    "version": 3
   },
   "file_extension": ".py",
   "mimetype": "text/x-python",
   "name": "python",
   "nbconvert_exporter": "python",
   "pygments_lexer": "ipython3",
   "version": "3.10.9"
  },
  "papermill": {
   "default_parameters": {},
   "duration": 95.3358,
   "end_time": "2022-03-15T05:16:41.764937",
   "environment_variables": {},
   "exception": null,
   "input_path": "__notebook__.ipynb",
   "output_path": "__notebook__.ipynb",
   "parameters": {},
   "start_time": "2022-03-15T05:15:06.429137",
   "version": "2.3.3"
  }
 },
 "nbformat": 4,
 "nbformat_minor": 5
}
